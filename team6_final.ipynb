{
 "cells": [
  {
   "cell_type": "code",
   "execution_count": 1,
   "id": "29356a1f",
   "metadata": {},
   "outputs": [
    {
     "data": {
      "application/javascript": [
       "\n",
       "try {\n",
       "require(['notebook/js/codecell'], function(codecell) {\n",
       "  codecell.CodeCell.options_default.highlight_modes[\n",
       "      'magic_text/x-csrc'] = {'reg':[/^%%microblaze/]};\n",
       "  Jupyter.notebook.events.one('kernel_ready.Kernel', function(){\n",
       "      Jupyter.notebook.get_cells().map(function(cell){\n",
       "          if (cell.cell_type == 'code'){ cell.auto_highlight(); } }) ;\n",
       "  });\n",
       "});\n",
       "} catch (e) {};\n"
      ]
     },
     "metadata": {},
     "output_type": "display_data"
    },
    {
     "data": {
      "application/javascript": [
       "\n",
       "try {\n",
       "require(['notebook/js/codecell'], function(codecell) {\n",
       "  codecell.CodeCell.options_default.highlight_modes[\n",
       "      'magic_text/x-csrc'] = {'reg':[/^%%pybind11/]};\n",
       "  Jupyter.notebook.events.one('kernel_ready.Kernel', function(){\n",
       "      Jupyter.notebook.get_cells().map(function(cell){\n",
       "          if (cell.cell_type == 'code'){ cell.auto_highlight(); } }) ;\n",
       "  });\n",
       "});\n",
       "} catch (e) {};\n"
      ]
     },
     "metadata": {},
     "output_type": "display_data"
    },
    {
     "name": "stdout",
     "output_type": "stream",
     "text": [
      "[[0 0 0 ... 0 0 0]\n",
      " [0 0 0 ... 0 0 0]\n",
      " [0 0 0 ... 0 0 0]\n",
      " ...\n",
      " [0 0 0 ... 0 0 0]\n",
      " [0 0 0 ... 0 0 0]\n",
      " [0 0 0 ... 0 0 0]]\n"
     ]
    }
   ],
   "source": [
    "from pynq import Overlay\n",
    "from pynq import allocate\n",
    "import numpy as np\n",
    "import time\n",
    "import os\n",
    "import sys\n",
    "import time\n",
    "batch_size = 512\n",
    "custom_hw = Overlay(\"final.bit\")\n",
    "mnist = np.load(\"mnist-original.npy\", allow_pickle= True)\n",
    "\n",
    "print(mnist.item().get(\"data\"))\n",
    "dma_dataout = custom_hw.axi_dma_1\n",
    "dma_datain1 = custom_hw.axi_dma_0\n",
    "\n",
    "in1Buffer = allocate(shape=(batch_size * 25, ),  dtype=np.uint32)\n",
    "outBuffer = allocate(shape=(batch_size * 10, ),  dtype=np.int32)\n",
    "weights = (1 << np.arange(32, dtype=np.uint32))\n",
    "pad_zero = np.zeros((batch_size, 16), dtype=np.uint32)\n",
    "X = mnist.item().get(\"data\").T\n",
    "y = mnist.item().get(\"label\")[0]"
   ]
  },
  {
   "cell_type": "code",
   "execution_count": 2,
   "id": "783d2ae4",
   "metadata": {},
   "outputs": [],
   "source": [
    "def pack_to_uint32_with_padding(x: np.ndarray) -> np.ndarray:\n",
    "\n",
    "    bits_per_img = x.reshape(batch_size, 784)  # shape = (num_images, 784)\n",
    "\n",
    "    bits_padded = np.concatenate([bits_per_img, pad_zero], axis=1)  # shape = (num_images,800)\n",
    "    grouped = bits_padded.reshape(-1, 32)  # shape = (num_images * 25, 32)\n",
    "    \n",
    "    packed = np.sum(grouped * weights, axis=1)\n",
    "\n",
    "    return packed"
   ]
  },
  {
   "cell_type": "code",
   "execution_count": 3,
   "id": "41332272",
   "metadata": {},
   "outputs": [],
   "source": [
    "def feed_foward(X0):\n",
    "    X0 = (X0 >> 7)\n",
    "    packed = pack_to_uint32_with_padding(X0)\n",
    "    np.copyto(in1Buffer, packed)\n",
    "    dma_datain1.sendchannel.transfer(in1Buffer)\n",
    "    dma_dataout.recvchannel.transfer(outBuffer)\n",
    "    dma_dataout.recvchannel.wait() \n",
    "    return outBuffer.reshape(batch_size, 10)"
   ]
  },
  {
   "cell_type": "code",
   "execution_count": 6,
   "id": "40a937d7",
   "metadata": {
    "scrolled": true
   },
   "outputs": [
    {
     "name": "stdout",
     "output_type": "stream",
     "text": [
      "25.94298481941223\n",
      "96.55618106617648\n"
     ]
    }
   ],
   "source": [
    "prediction = []\n",
    "start_time = time.time()\n",
    "for idx in range(len(X)//batch_size):\n",
    "    xs = X[batch_size * idx:batch_size * idx + batch_size]\n",
    "    ys = y[batch_size * idx:batch_size * idx + batch_size]\n",
    "    outputs = feed_foward(xs)\n",
    "    for output, yk in zip(outputs, ys):\n",
    "        prediction.append(np.argmax(output) == (yk))\n",
    "end_time = time.time()\n",
    "score = np.mean(prediction) * 100\n",
    "print(end_time - start_time)\n",
    "print(score)\n"
   ]
  }
 ],
 "metadata": {
  "kernelspec": {
   "display_name": "Python 3",
   "language": "python",
   "name": "python3"
  },
  "language_info": {
   "codemirror_mode": {
    "name": "ipython",
    "version": 3
   },
   "file_extension": ".py",
   "mimetype": "text/x-python",
   "name": "python",
   "nbconvert_exporter": "python",
   "pygments_lexer": "ipython3",
   "version": "3.8.2"
  }
 },
 "nbformat": 4,
 "nbformat_minor": 5
}
